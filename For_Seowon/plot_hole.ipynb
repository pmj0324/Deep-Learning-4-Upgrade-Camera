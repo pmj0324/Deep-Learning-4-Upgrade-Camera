# (C) 모델 정의: ViT50_3block
device = torch.device('cuda' if torch.cuda.is_available() else 'cpu')
model = ViT50_3block(
    img_size=500,
    patch_size=50,
    embed_dim=256,
    depth=3,
    num_heads=8,
    mlp_dim=512,
    num_classes=1
).to(device)

best_model_path = "/home/work/CamSim/Refactor/new_dataset_hr_0613.pth"
checkpoint = torch.load(best_model_path, map_location=device)

# 체크포인트가 딕셔너리 형태인지(state dict만인지) 확인
if isinstance(checkpoint, dict) and 'model_state_dict' in checkpoint:
    # {'model_state_dict': ..., 'optimizer_state_dict': ..., 'val_loss': ..., ...} 형태
    model.load_state_dict(checkpoint['model_state_dict'])
    if 'optimizer_state_dict' in checkpoint:
        optimizer.load_state_dict(checkpoint['optimizer_state_dict'])
    if 'scheduler_state_dict' in checkpoint:
        scheduler.load_state_dict(checkpoint['scheduler_state_dict'])
    start_epoch = checkpoint.get('epoch', 0) + 1
    best_val_loss = checkpoint.get('val_loss', float('inf'))
    print(f"Loaded checkpoint from epoch {checkpoint.get('epoch', 0)}. Continuing from epoch {start_epoch}.")
else:
    # 단순히 model.state_dict()만 저장된 경우
    model.load_state_dict(checkpoint)
    best_val_loss = float('inf')
    print("Loaded state_dict-only checkpoint. Starting from epoch 1.")


# (F) 테스트 세트 평가
model.eval()

true_vals = []
pred_vals = []

with torch.no_grad():
    for images, labels in test_loader:
        images = images.to(device)   # (B, 1, 500, 500)
        labels = labels.to(device)   # (B,)
        outputs = model(images)      # (B,)

        # 정규화 복원 → 원래 스케일로
        labels_orig = ((labels.cpu().numpy() + 1.0) / 2.0) * (lbl_max - lbl_min) + lbl_min
        preds_orig  = ((outputs.cpu().numpy() + 1.0) / 2.0) * (lbl_max - lbl_min) + lbl_min

        true_vals.extend(labels_orig.tolist())
        pred_vals.extend(preds_orig.tolist())

true_vals = np.array(true_vals)
pred_vals = np.array(pred_vals)
errors = pred_vals - true_vals
abs_rel_errors = np.abs(errors / true_vals) * 100.0

# (G) 결과 시각화
plt.figure(figsize=(16, 12))
mn = min(true_vals.min(), pred_vals.min())
mx = max(true_vals.max(), pred_vals.max())
unique_true_labels = np.unique(true_vals)

# 1) Predicted vs True with ±5% Band
ax1 = plt.subplot(2, 2, 1)
ax1.scatter(true_vals, pred_vals, s=10, color='black', label='Predictions')
ax1.plot([mn, mx], [mn, mx], color='red', label='y = x')
ax1.plot([mn, mx], [0.95*mn, 0.95*mx], '--', color='blue', label='y = 0.95x')
ax1.plot([mn, mx], [1.05*mn, 1.05*mx], '--', color='blue', label='y = 1.05x')
ax1.fill_between([mn, mx], [0.95*mn, 0.95*mx], [1.05*mn, 1.05*mx], color='blue', alpha=0.2)
ax1.set_xticks(unique_true_labels)
ax1.set_xticklabels([f"{val:.2f}" for val in unique_true_labels], rotation=45)
ax1.set_title("Predicted vs True Scattering Length (±5% Band)")
ax1.set_xlabel("True Scattering Length (cm)")
ax1.set_ylabel("Predicted Scattering Length (cm)")
ax1.set_xlim(mn, mx)
ax1.set_ylim(mn * 0.9, mx * 1.1)
ax1.legend()

# 2) Error vs True with ±5% Band
ax2 = plt.subplot(2, 2, 2)
ax2.scatter(true_vals, errors, s=10, color='black', label='Prediction Errors')
ax2.plot([mn, mx], [0, 0], '-', color='red', label='No Error')
ax2.plot([mn, mx], [-0.05*mn, -0.05*mx], '--', color='blue', label='y = -0.05x')
ax2.plot([mn, mx], [0.05*mn, 0.05*mx], '--', color='blue', label='y = 0.05x')
ax2.fill_between([mn, mx], [-0.05*mn, -0.05*mx], [0.05*mn, 0.05*mx], color='blue', alpha=0.2)
ax2.set_xticks(unique_true_labels)
ax2.set_xticklabels([f"{val:.2f}" for val in unique_true_labels], rotation=45)
ax2.set_title("Error vs True Scattering Length (±5% Band)")
ax2.set_xlabel("True Scattering Length (cm)")
ax2.set_ylabel("Error (cm)")
ax2.set_xlim(mn, mx)
ax2.set_ylim(-0.1 * mx, 0.1 * mx)
ax2.legend()

# 3) Histogram of Errors (50 bins)
ax3 = plt.subplot(2, 2, 3)
bins = np.linspace(errors.min(), errors.max(), 50)
ax3.hist(errors, bins=bins, color='green', alpha=0.7, edgecolor='black')
ax3.set_title("Histogram of Errors")
ax3.set_xlabel("Error (cm)")
ax3.set_ylabel("Frequency")
ax3.grid(axis='y', linestyle='--', alpha=0.5)

# 4) Absolute Relative Error (%) by True with 68th Percentile
ax4 = plt.subplot(2, 2, 4)
ax4.scatter(true_vals, abs_rel_errors, s=10, color='purple', label='Abs Rel Error (%)')
perc68 = np.percentile(abs_rel_errors, 68)
ax4.fill_between([mn, mx], 0, perc68, color='orange', alpha=0.3,
                    label=f'0–68th percentile ({perc68:.2f}%)')
ax4.hlines(perc68, mn, mx, colors='red', linestyles='--',
            label=f'68th percentile = {perc68:.2f}%')
ax4.set_xticks(unique_true_labels)
ax4.set_xticklabels([f"{val:.2f}" for val in unique_true_labels], rotation=45)
ax4.set_title("Absolute Relative Error (%) by True Scattering Length")
ax4.set_xlabel("True Scattering Length (cm)")
ax4.set_ylabel("Absolute Relative Error (%)")
ax4.set_xlim(mn, mx)
ax4.set_ylim(0, max(abs_rel_errors) * 1.1)
ax4.legend()

plt.tight_layout()
plt.show()
